{
 "cells": [
  {
   "cell_type": "code",
   "execution_count": 19,
   "metadata": {},
   "outputs": [
    {
     "data": {
      "text/plain": [
       "['C:\\\\Users\\\\HimanshuVidyarthi\\\\OneDrive - TheMathCompany Private Limited\\\\Downloads\\\\Python codes\\\\myenv\\\\Scripts\\\\Python Scripts\\\\config.ini']"
      ]
     },
     "execution_count": 19,
     "metadata": {},
     "output_type": "execute_result"
    }
   ],
   "source": [
    "import pandas as pd\n",
    "import numpy as np\n",
    "import datetime\n",
    "import configparser\n",
    "\n",
    "import os \n",
    "path = os.getcwd()\n",
    "config = configparser.ConfigParser(interpolation=None)\n",
    "config.read(path+\"\\\\Python Scripts\\\\config.ini\")"
   ]
  },
  {
   "cell_type": "code",
   "execution_count": 12,
   "metadata": {},
   "outputs": [
    {
     "data": {
      "text/plain": [
       "'C:\\\\Users\\\\HimanshuVidyarthi\\\\OneDrive - TheMathCompany Private Limited\\\\Downloads\\\\Python codes\\\\myenv\\\\Scripts'"
      ]
     },
     "execution_count": 12,
     "metadata": {},
     "output_type": "execute_result"
    }
   ],
   "source": [
    "path"
   ]
  },
  {
   "cell_type": "code",
   "execution_count": 21,
   "metadata": {},
   "outputs": [],
   "source": [
    "# raw_file_path_name= r'C:\\Users\\HimanshuVidyarthi\\Downloads\\Capstone Research- AbinBev\\Korea_Beer_Forecast_SM\\Raw\\Weather_WU.xlsm'\n",
    "from io import StringIO\n",
    "import pandas as pd\n",
    "import numpy as np\n",
    "from azure.storage.blob import BlobServiceClient\n",
    "from azure.storage.blob import BlobClient\n",
    "blob = BlobClient.from_connection_string(conn_str=config['credentials']['conn_str'], container_name=\"ddrs11/abinbev_southkorea_rahul/Raw\", blob_name=config['file']['input_file'])\n",
    "filename=\"./\"+ str(config['file']['input_file'])\n",
    "with open(filename, \"wb\") as my_blob:\n",
    "    blob_data = blob.download_blob()\n",
    "    blob_data.readinto(my_blob)\n",
    "\n",
    "    "
   ]
  },
  {
   "cell_type": "code",
   "execution_count": null,
   "metadata": {},
   "outputs": [],
   "source": [
    "# from io import StringIO\n",
    "# import pandas as pd\n",
    "# import numpy as np\n",
    "# from azure.storage.blob import BlobServiceClient\n",
    "# from azure.storage.blob import BlobClient\n",
    "# blob = BlobClient.from_connection_string(conn_str=\"DefaultEndpointsProtocol=https;AccountName=coach;AccountKey=qtMAw9Z1T+1oOl+joMwfzdvnR0exMA4Qw50vniiaXOFvpOeFG7TP+g+DP4/iU7VKAUhirSpzrESvjF3U2Ld0KA==;EndpointSuffix=core.windows.net\", container_name=\"ddrs11/redbox_muskaan\", blob_name=\"clustering_mock_data.csv\")\n",
    "# with open(\"./clustering_mock_data1.csv\", \"wb\") as my_blob:\n",
    "#     blob_data = blob.download_blob()\n",
    "#     blob_data.readinto(my_blob)\n"
   ]
  },
  {
   "cell_type": "code",
   "execution_count": 22,
   "metadata": {},
   "outputs": [],
   "source": [
    "dict1={} \n",
    "xl = pd.ExcelFile(\"Weather_WU.xlsm\",engine='openpyxl')\n",
    "for i,sheet in enumerate(xl.sheet_names,0):\n",
    "    df_tmp = xl.parse(sheet,skiprows=range(1,1097))\n",
    "    dict1[i+1]=df_tmp\n",
    "# Inserting observation date column in a new data frame\n",
    "df=dict1[1]\n",
    "start1 = \"01/01/2009\"\n",
    "\n",
    "end1 = df.shape[0]-1\n",
    "dateStart = datetime.datetime.strptime(start1, \"%d/%m/%Y\")\n",
    "dateEnd = dateStart + datetime.timedelta(days=end1)\n",
    "ee=dateEnd.date()  # to get the date format of the endDate\n",
    "odf=pd.DataFrame()\n",
    "ob=pd.date_range(start='1/1/2009',end=ee, freq='D')\n",
    "odf['observation_date']=ob\n",
    "odf.set_index('observation_date')\n",
    "#Considering only the Temperature column and saving in  another dataframe\n",
    "for i in range(len(dict1.keys())):\n",
    "    odf['Mean_Temp'+str(i+1)]=dict1[i+1]['Mean TemperatureC']\n",
    "    odf['Mean_Humid'+str(i+1)]=dict1[i+1][' Mean Humidity']\n",
    "\n",
    "#finding the Mean temperature of six areas covered\n",
    "odf['Temperature'] = odf[[\"Mean_Temp1\",\"Mean_Temp2\",\"Mean_Temp3\",\"Mean_Temp4\",\"Mean_Temp5\",\"Mean_Temp6\"]].mean(axis=1)\n",
    "odf['Humidity'] = odf[[\"Mean_Humid1\",\"Mean_Humid2\",\"Mean_Humid3\",\"Mean_Humid4\",\"Mean_Humid5\",\"Mean_Humid6\"]].mean(axis=1)\n",
    "# converting daily observations to Monthly observations\n",
    "# odf=(odf.groupby([pd.Grouper(key='observation_date', freq='MS')])\n",
    "# [\"Temperature\"]\n",
    "# .mean()\n",
    "# .reset_index())\n",
    "\n",
    "# odf=(odf.groupby([pd.Grouper(key='observation_date', freq='MS')])\n",
    "# [\"Humidity\"]\n",
    "# .mean()\n",
    "# .reset_index())\n",
    "# odf.columns = map(lambda x: str(x).upper(), odf.columns)\n",
    "# #preparing data for quality check\n",
    "# opt_no_of_cols=2\n",
    "# col_list=[\"OBSERVATION_DATE\",\"TEMPERATURE\"]\n",
    "\n",
    "# Quality_check(odf,opt_no_of_cols,col_list)\n",
    "# #saving the tranformed data as .csv file\n",
    "# odf.to_csv(clean_file_path_name,index=False)"
   ]
  },
  {
   "cell_type": "code",
   "execution_count": 23,
   "metadata": {},
   "outputs": [
    {
     "data": {
      "text/html": [
       "<div>\n",
       "<style scoped>\n",
       "    .dataframe tbody tr th:only-of-type {\n",
       "        vertical-align: middle;\n",
       "    }\n",
       "\n",
       "    .dataframe tbody tr th {\n",
       "        vertical-align: top;\n",
       "    }\n",
       "\n",
       "    .dataframe thead th {\n",
       "        text-align: right;\n",
       "    }\n",
       "</style>\n",
       "<table border=\"1\" class=\"dataframe\">\n",
       "  <thead>\n",
       "    <tr style=\"text-align: right;\">\n",
       "      <th></th>\n",
       "      <th>observation_date</th>\n",
       "      <th>Temperature</th>\n",
       "      <th>Humidity</th>\n",
       "    </tr>\n",
       "  </thead>\n",
       "  <tbody>\n",
       "    <tr>\n",
       "      <th>0</th>\n",
       "      <td>2009-01-01</td>\n",
       "      <td>-0.973118</td>\n",
       "      <td>63.295699</td>\n",
       "    </tr>\n",
       "    <tr>\n",
       "      <th>1</th>\n",
       "      <td>2009-02-01</td>\n",
       "      <td>3.845238</td>\n",
       "      <td>69.160714</td>\n",
       "    </tr>\n",
       "    <tr>\n",
       "      <th>2</th>\n",
       "      <td>2009-03-01</td>\n",
       "      <td>6.844086</td>\n",
       "      <td>61.806452</td>\n",
       "    </tr>\n",
       "    <tr>\n",
       "      <th>3</th>\n",
       "      <td>2009-04-01</td>\n",
       "      <td>12.400000</td>\n",
       "      <td>61.183333</td>\n",
       "    </tr>\n",
       "    <tr>\n",
       "      <th>4</th>\n",
       "      <td>2009-05-01</td>\n",
       "      <td>18.408602</td>\n",
       "      <td>65.994624</td>\n",
       "    </tr>\n",
       "    <tr>\n",
       "      <th>...</th>\n",
       "      <td>...</td>\n",
       "      <td>...</td>\n",
       "      <td>...</td>\n",
       "    </tr>\n",
       "    <tr>\n",
       "      <th>93</th>\n",
       "      <td>2016-10-01</td>\n",
       "      <td>16.456989</td>\n",
       "      <td>72.129032</td>\n",
       "    </tr>\n",
       "    <tr>\n",
       "      <th>94</th>\n",
       "      <td>2016-11-01</td>\n",
       "      <td>8.038889</td>\n",
       "      <td>66.166667</td>\n",
       "    </tr>\n",
       "    <tr>\n",
       "      <th>95</th>\n",
       "      <td>2016-12-01</td>\n",
       "      <td>3.080645</td>\n",
       "      <td>65.887097</td>\n",
       "    </tr>\n",
       "    <tr>\n",
       "      <th>96</th>\n",
       "      <td>2017-01-01</td>\n",
       "      <td>0.102151</td>\n",
       "      <td>62.295699</td>\n",
       "    </tr>\n",
       "    <tr>\n",
       "      <th>97</th>\n",
       "      <td>2017-02-01</td>\n",
       "      <td>0.433333</td>\n",
       "      <td>57.300000</td>\n",
       "    </tr>\n",
       "  </tbody>\n",
       "</table>\n",
       "<p>98 rows × 3 columns</p>\n",
       "</div>"
      ],
      "text/plain": [
       "   observation_date  Temperature   Humidity\n",
       "0        2009-01-01    -0.973118  63.295699\n",
       "1        2009-02-01     3.845238  69.160714\n",
       "2        2009-03-01     6.844086  61.806452\n",
       "3        2009-04-01    12.400000  61.183333\n",
       "4        2009-05-01    18.408602  65.994624\n",
       "..              ...          ...        ...\n",
       "93       2016-10-01    16.456989  72.129032\n",
       "94       2016-11-01     8.038889  66.166667\n",
       "95       2016-12-01     3.080645  65.887097\n",
       "96       2017-01-01     0.102151  62.295699\n",
       "97       2017-02-01     0.433333  57.300000\n",
       "\n",
       "[98 rows x 3 columns]"
      ]
     },
     "execution_count": 23,
     "metadata": {},
     "output_type": "execute_result"
    }
   ],
   "source": [
    "odf1=odf.groupby([pd.Grouper(key='observation_date', freq='MS')])[\"Temperature\"].mean().reset_index(name=\"Temperature\")\n",
    "odf2=odf.groupby([pd.Grouper(key='observation_date', freq='MS')])[\"Humidity\"].mean().reset_index(name=\"Humidity\")\n",
    "odf=pd.merge(odf1,odf2,on=\"observation_date\")\n",
    "odf"
   ]
  },
  {
   "cell_type": "markdown",
   "metadata": {},
   "source": [
    "# Uploading to azure blob storage"
   ]
  },
  {
   "cell_type": "code",
   "execution_count": null,
   "metadata": {},
   "outputs": [],
   "source": [
    "# from azure.storage.blob import *\n",
    "# import dotenv\n",
    "# import io\n",
    "# import pandas as pd\n",
    "# dotenv.load_dotenv()\n",
    "# blob_block = ContainerClient.from_connection_string(\n",
    "#     conn_str=os.environ[\"CONNECTION_STRING\"],\n",
    "#     container_name=os.environ['ddrs11/abinbev_southkorea_rahul/Clean']\n",
    "#     )\n",
    "# output = io.StringIO()\n",
    "# partial = df.DataFrame()\n",
    "# output = partial.to_csv(encoding='utf-8')\n",
    "# blob_block.upload_blob(name, output, overwrite=True, encoding='utf-8')\n"
   ]
  },
  {
   "cell_type": "code",
   "execution_count": null,
   "metadata": {},
   "outputs": [],
   "source": [
    "from io import StringIO\n",
    "import pandas as pd\n",
    "import numpy as np\n",
    "from azure.storage.blob import BlobServiceClient\n",
    "from azure.storage.blob import BlobClient\n",
    "blob = BlobClient.from_connection_string(conn_str=\"DefaultEndpointsProtocol=https;AccountName=coach;AccountKey=qtMAw9Z1T+1oOl+joMwfzdvnR0exMA4Qw50vniiaXOFvpOeFG7TP+g+DP4/iU7VKAUhirSpzrESvjF3U2Ld0KA==;EndpointSuffix=core.windows.net\", container_name=\"ddrs11/redbox_muskaan\", blob_name=\"clustering_mock_data.csv\")\n",
    "with open(\"./clustering_mock_data1.csv\", \"wb\") as my_blob:\n",
    "    blob_data = blob.download_blob()\n",
    "    blob_data.readinto(my_blob)"
   ]
  }
 ],
 "metadata": {
  "kernelspec": {
   "display_name": "Python 3 (ipykernel)",
   "language": "python",
   "name": "python3"
  },
  "language_info": {
   "codemirror_mode": {
    "name": "ipython",
    "version": 3
   },
   "file_extension": ".py",
   "mimetype": "text/x-python",
   "name": "python",
   "nbconvert_exporter": "python",
   "pygments_lexer": "ipython3",
   "version": "3.7.5"
  }
 },
 "nbformat": 4,
 "nbformat_minor": 2
}
